{
 "metadata": {
  "name": "",
  "signature": "sha256:eb3e0177de74fdcec0bd2393ae80b1d5a95f9935ff761384421fe668cc345177"
 },
 "nbformat": 3,
 "nbformat_minor": 0,
 "worksheets": [
  {
   "cells": [
    {
     "cell_type": "markdown",
     "metadata": {},
     "source": [
      "#Classifying Supernovae into Type Ia, Ib/c and Type II"
     ]
    },
    {
     "cell_type": "markdown",
     "metadata": {},
     "source": [
      "File: make_csv.py"
     ]
    },
    {
     "cell_type": "code",
     "collapsed": false,
     "input": [
      "import gzip\n",
      "import cPickle\n",
      "import numpy as np\n",
      "\n",
      "def load(filename):\n",
      "    \"\"\"Loads a compressed object from disk\"\"\"\n",
      "    file = gzip.GzipFile(filename, 'rb')\n",
      "    object = cPickle.load(file)\n",
      "    file.close()\n",
      "    return object\n",
      "\n",
      "def make_csv(filename_filter1, filename_filter2):\n",
      "    dict_filter1 = load(filename_filter1)\n",
      "    dict_filter2 = load(filename_filter2)\n",
      "    \n",
      "    type_Ia_flux_filter1 = dict_filter1['type_Ia_flux']\n",
      "    type_Ibc_flux_filter1 = dict_filter1['type_Ibc_flux']\n",
      "    type_II_flux_filter1 = dict_filter1['type_II_flux']\n",
      "    \n",
      "    type_Ia_flux_filter2 = dict_filter2['type_Ia_flux']\n",
      "    type_Ibc_flux_filter2 = dict_filter2['type_Ibc_flux']\n",
      "    type_II_flux_filter2 = dict_filter2['type_II_flux']\n",
      "    \n",
      "    type_Ia_flux_diff = np.subtract(type_Ia_flux_filter2,type_Ia_flux_filter1)\n",
      "    type_Ibc_flux_diff = np.subtract(type_Ibc_flux_filter2,type_Ibc_flux_filter1)\n",
      "    type_II_flux_diff = np.subtract(type_II_flux_filter2,type_II_flux_filter1)\n",
      "    \n",
      "    print 'size Type Ia: ', np.shape(type_Ia_flux_filter1)\n",
      "    print 'size Type Ib/c: ', np.shape(type_Ia_flux_filter1)\n",
      "    print 'size Type II: ', np.shape(type_Ia_flux_filter1)\n",
      "    \n",
      "    flux = np.hstack((type_Ia_flux_filter1, type_Ibc_flux_filter1, type_II_flux_filter1 ))   \n",
      "    flux_diff = np.hstack((type_Ia_flux_diff, type_Ibc_flux_diff, type_II_flux_diff))\n",
      " \n",
      "    np.savetxt('data.csv', np.transpose([flux_diff, flux]),delimiter=',', \n",
      "               header='Type Ia Flux Diff,Type Ia Flux')\n",
      "    "
     ],
     "language": "python",
     "metadata": {},
     "outputs": [],
     "prompt_number": 99
    },
    {
     "cell_type": "code",
     "collapsed": false,
     "input": [
      "make_csv('z135_f105w_mc.gz', 'z135_f160w_mc.gz')"
     ],
     "language": "python",
     "metadata": {},
     "outputs": [
      {
       "output_type": "stream",
       "stream": "stdout",
       "text": [
        "size Type Ia:  (1000,)\n",
        "size Type Ib/c:  (1000,)\n",
        "size Type II:  (1000,)\n"
       ]
      }
     ],
     "prompt_number": 100
    },
    {
     "cell_type": "code",
     "collapsed": false,
     "input": [
      "import numpy as np\n",
      "import pandas as pd\n",
      "import copy\n",
      "from sklearn.cross_validation import train_test_split\n",
      "from sklearn.metrics import confusion_matrix\n",
      "\n",
      "#Read in data generated using sncosmo and assign the correct SN Type to each instance\n",
      "def read_data(filename):\n",
      "    all_sources = pd.read_csv(filename)\n",
      "    all_sources['Type'] = 'Type Ia'\n",
      "    all_sources.ix[1000:2000, 'Type'] = 'Type Ibc'\n",
      "    all_sources.ix[2000:, 'Type'] = 'Type II'         \n",
      "        \n",
      "    all_features = copy.copy(all_sources)\n",
      "    all_label = all_sources[\"Type\"]\n",
      "    del all_features[\"Type\"]\n",
      "\n",
      "    X = copy.copy(all_features.values)\n",
      "    Y = copy.copy(all_label.values)\n",
      "\n",
      "    print \"feature vector shape=\", X.shape\n",
      "    print \"class shape=\", Y.shape\n",
      "    \n",
      "    return X, Y\n"
     ],
     "language": "python",
     "metadata": {},
     "outputs": [],
     "prompt_number": 101
    },
    {
     "cell_type": "code",
     "collapsed": false,
     "input": [
      "X, Y = read_data('data.csv')"
     ],
     "language": "python",
     "metadata": {},
     "outputs": [
      {
       "output_type": "stream",
       "stream": "stdout",
       "text": [
        "feature vector shape= (3000, 2)\n",
        "class shape= (3000,)\n"
       ]
      }
     ],
     "prompt_number": 102
    },
    {
     "cell_type": "code",
     "collapsed": false,
     "input": [
      "Y[Y==\"Type Ia\"] = 0\n",
      "Y[Y==\"Type Ibc\"] = 1\n",
      "Y[Y==\"Type II\"] = 2\n",
      "Y = Y.astype(int)"
     ],
     "language": "python",
     "metadata": {},
     "outputs": [],
     "prompt_number": 103
    },
    {
     "cell_type": "code",
     "collapsed": false,
     "input": [
      "xtrain = X[::2,:]\n",
      "xtest = X[1::2,:]\n",
      "ytrain = Y[::2]\n",
      "ytest = Y[1::2]"
     ],
     "language": "python",
     "metadata": {},
     "outputs": [],
     "prompt_number": 104
    },
    {
     "cell_type": "markdown",
     "metadata": {},
     "source": [
      "#Classify using Random Forest Classifier"
     ]
    },
    {
     "cell_type": "code",
     "collapsed": false,
     "input": [
      "from sklearn.ensemble import RandomForestClassifier\n",
      "clf = RandomForestClassifier(n_estimators=200,oob_score=True)\n",
      "rfc = clf.fit(X,Y)\n",
      "print clf.oob_score_\n",
      "\n",
      "ypred = clf.fit(xtrain, ytrain).predict(xtest)"
     ],
     "language": "python",
     "metadata": {},
     "outputs": [
      {
       "output_type": "stream",
       "stream": "stdout",
       "text": [
        "0.818333333333\n"
       ]
      }
     ],
     "prompt_number": 105
    },
    {
     "cell_type": "code",
     "collapsed": false,
     "input": [
      "import matplotlib.pyplot as plt\n",
      "%pylab inline\n",
      "cm = confusion_matrix(ytest.astype(int), ypred.astype(int))\n",
      "\n",
      "# Show confusion matrix in a separate window\n",
      "plt.matshow(cm)\n",
      "plt.title('Confusion matrix')\n",
      "plt.colorbar()\n",
      "plt.ylabel('True label')\n",
      "plt.xlabel('Predicted label')\n",
      "plt.show()"
     ],
     "language": "python",
     "metadata": {},
     "outputs": [
      {
       "output_type": "stream",
       "stream": "stdout",
       "text": [
        "Populating the interactive namespace from numpy and matplotlib\n"
       ]
      },
      {
       "output_type": "stream",
       "stream": "stderr",
       "text": [
        "WARNING: pylab import has clobbered these variables: ['clf', 'copy', 'load', 'cm']\n",
        "`%matplotlib` prevents importing * from pylab and numpy\n"
       ]
      },
      {
       "metadata": {},
       "output_type": "display_data",
       "png": "[encoded data removed]",
       "text": [
        "<matplotlib.figure.Figure at 0x10c6dde50>"
       ]
      }
     ],
     "prompt_number": 106
    },
    {
     "cell_type": "code",
     "collapsed": false,
     "input": [
      "ind1 = np.where(ypred == 0) \n",
      "ind2 = np.where(ypred == 1)\n",
      "ind3 = np.where(ypred == 2)\n",
      "\n",
      "plt.figure(figsize=(8,8))\n",
      "plt.plot(xtest[ypred == 0,0], xtest[ypred == 0,1], 'b.', label='TypeIa')\n",
      "plt.plot(xtest[ypred == 1,0], xtest[ypred == 1,1], 'r.', label='TypeIbc')\n",
      "plt.plot(xtest[ypred == 2,0], xtest[ypred == 2,1], 'g.', label='TypeII')\n",
      "\n",
      "plt.xlabel('F160W - F105W', fontsize=12)\n",
      "plt.ylabel('F105W', fontsize=12)\n",
      "plt.title('Predicted Classifications', fontsize=12)\n",
      "plt.legend(numpoints=1,markerscale=2)"
     ],
     "language": "python",
     "metadata": {},
     "outputs": [
      {
       "metadata": {},
       "output_type": "pyout",
       "prompt_number": 108,
       "text": [
        "<matplotlib.legend.Legend at 0x10d498810>"
       ]
      },
      {
       "metadata": {},
       "output_type": "display_data",
       "png": "[encoded data removed]",
       "text": [
        "<matplotlib.figure.Figure at 0x10b147f90>"
       ]
      }
     ],
     "prompt_number": 108
    },
    {
     "cell_type": "code",
     "collapsed": false,
     "input": [
      "rfc.predict_proba([2,1.5])"
     ],
     "language": "python",
     "metadata": {},
     "outputs": [
      {
       "metadata": {},
       "output_type": "pyout",
       "prompt_number": 109,
       "text": [
        "array([[ 0.815,  0.185,  0.   ]])"
       ]
      }
     ],
     "prompt_number": 109
    },
    {
     "cell_type": "code",
     "collapsed": false,
     "input": [],
     "language": "python",
     "metadata": {},
     "outputs": [],
     "prompt_number": 97
    }
   ],
   "metadata": {}
  }
 ]
}